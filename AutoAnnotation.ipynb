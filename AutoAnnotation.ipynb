{
 "cells": [
  {
   "cell_type": "markdown",
   "id": "642b6ef2-3ea2-4ffe-849c-e875496269e9",
   "metadata": {},
   "source": [
    "# Auto Annotation using Rembg for training in yolo v8 *(Test for simple object)*"
   ]
  },
  {
   "cell_type": "markdown",
   "id": "a347ff18-a2d9-43d5-b87b-a0c27fcb7d76",
   "metadata": {},
   "source": [
    "### Importing necessary libraries"
   ]
  },
  {
   "cell_type": "code",
   "execution_count": null,
   "id": "2f8cb79c-3874-4466-8807-9266488a6a73",
   "metadata": {},
   "outputs": [],
   "source": [
    "from rembg import remove\n",
    "from tqdm import tqdm\n",
    "from PIL import Image\n",
    "import matplotlib.pyplot as plt\n",
    "import numpy as np"
   ]
  },
  {
   "cell_type": "markdown",
   "id": "1097fc91-1fe8-4a68-989a-2a6c89b7030c",
   "metadata": {},
   "source": [
    "### Declaring input and output path and observing input image"
   ]
  },
  {
   "cell_type": "code",
   "execution_count": null,
   "id": "7ec3b960-63b8-43c2-b7c4-ab91720ace56",
   "metadata": {},
   "outputs": [],
   "source": [
    "input_path = 'input.jpg'"
   ]
  },
  {
   "cell_type": "markdown",
   "id": "155a0cd9-5105-420c-bdd9-9aee03770621",
   "metadata": {},
   "source": [
    "#### Rotated by 90 degree initially so resolving that"
   ]
  },
  {
   "cell_type": "code",
   "execution_count": null,
   "id": "6913aed0-1881-4db7-945f-a5df78b476e2",
   "metadata": {},
   "outputs": [],
   "source": [
    "img = Image.open(input_path)\n",
    "plt.imshow(np.rot90(np.asarray(img),k=3))\n",
    "plt.show()"
   ]
  },
  {
   "cell_type": "markdown",
   "id": "5346cff5-04a5-4f25-af8b-8aac25adf96a",
   "metadata": {},
   "source": [
    "### Running remove function from rembg i.e Removing background and observing it"
   ]
  },
  {
   "cell_type": "code",
   "execution_count": null,
   "id": "b1f254c1-ea7f-465d-a792-77e87508eee0",
   "metadata": {},
   "outputs": [],
   "source": [
    "rem_bg = remove(img)\n",
    "plt.imshow(np.array(rem_bg))"
   ]
  },
  {
   "cell_type": "markdown",
   "id": "0fa1f549-1a80-4b17-bd8a-58d4c4eaf498",
   "metadata": {},
   "source": [
    "### Masking given background removed image"
   ]
  },
  {
   "cell_type": "code",
   "execution_count": null,
   "id": "36363b14-b3b4-4bcb-8ef4-571eec1e10a7",
   "metadata": {},
   "outputs": [],
   "source": [
    "input = np.array(rem_bg)"
   ]
  },
  {
   "cell_type": "code",
   "execution_count": null,
   "id": "bc5ddec7-dd8c-42c2-998a-b0acc68cbf82",
   "metadata": {},
   "outputs": [],
   "source": [
    "alpha_channel = input[:, :, 3]\n",
    "mask = (alpha_channel != 0).astype(np.uint8)"
   ]
  },
  {
   "cell_type": "code",
   "execution_count": null,
   "id": "f1daaa84-98be-4a31-8c28-eeece75f7731",
   "metadata": {},
   "outputs": [],
   "source": [
    "plt.imshow(mask,cmap=\"gray\")"
   ]
  },
  {
   "cell_type": "markdown",
   "id": "86ead329-af4e-4fc3-a657-5747e49dc2f2",
   "metadata": {},
   "source": [
    "### Finding coordinates with object and making a bounding box"
   ]
  },
  {
   "cell_type": "code",
   "execution_count": null,
   "id": "b5b465cf-7bc9-4604-8c5b-df01540745b8",
   "metadata": {},
   "outputs": [],
   "source": [
    "# Find the coordinates of all the '1' values\n",
    "coords = np.argwhere(mask == 1)\n",
    "\n",
    "# Find the minimum and maximum row and column values\n",
    "min_row, min_col = np.min(coords, axis=0)\n",
    "max_row, max_col = np.max(coords, axis=0)\n",
    "\n",
    "x = min_col\n",
    "y = min_row\n",
    "w = max_col - min_col\n",
    "h = max_row - min_row\n",
    "\n",
    "print(f\"x: {x}, y: {y}, width: {w}, height: {h}\")"
   ]
  },
  {
   "cell_type": "markdown",
   "id": "23f6d1bf-5e09-4f83-b413-887cd60c149d",
   "metadata": {},
   "source": [
    "### Visualizing given annotation"
   ]
  },
  {
   "cell_type": "code",
   "execution_count": null,
   "id": "9cc253af-055e-4c73-afd3-9056e5d20892",
   "metadata": {},
   "outputs": [],
   "source": [
    "fig,ax = plt.subplots()\n",
    "ax.imshow(np.rot90(np.asarray(img),k=3))\n",
    "rectangle = plt.Rectangle((x,y),w,h,fill=False,edgecolor= \"red\")\n",
    "ax.add_patch(rectangle)"
   ]
  },
  {
   "cell_type": "markdown",
   "id": "fe127663-ef11-4eb3-9d7a-61608f0e3232",
   "metadata": {},
   "source": [
    "### Annotating bounding box"
   ]
  },
  {
   "cell_type": "code",
   "execution_count": null,
   "id": "dd74c0c5-e810-4c2e-8230-0b0f62ddaab3",
   "metadata": {},
   "outputs": [],
   "source": [
    "with open('annotation.txt', 'w') as f:\n",
    "    f.write(f\"0 {x} {y} {w} {h}\")"
   ]
  }
 ],
 "metadata": {
  "kernelspec": {
   "display_name": "Python 3 (ipykernel)",
   "language": "python",
   "name": "python3"
  },
  "language_info": {
   "codemirror_mode": {
    "name": "ipython",
    "version": 3
   },
   "file_extension": ".py",
   "mimetype": "text/x-python",
   "name": "python",
   "nbconvert_exporter": "python",
   "pygments_lexer": "ipython3",
   "version": "3.11.4"
  }
 },
 "nbformat": 4,
 "nbformat_minor": 5
}
